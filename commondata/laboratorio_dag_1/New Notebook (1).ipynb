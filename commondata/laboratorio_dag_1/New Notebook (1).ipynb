{
 "cells": [
  {
   "cell_type": "code",
   "execution_count": null,
   "metadata": {},
   "outputs": [],
   "source": [
    "arcpy.management.CalculateField(\n",
    "    in_table=\"gse_uso_camp_\",\n",
    "    field=\"gse\",\n",
    "    expression=\"indice(!Hacinamiento!,!GSE!)\",\n",
    "    expression_type=\"PYTHON3\",\n",
    "    code_block=\"\"\"def indice(x,y):\n",
    "    if x==\"Desconocido\" and y== 0:\n",
    "        return 1\n",
    "    elif x==\"Hacinamiento Medio\" and y== 3:\n",
    "        return 1U\n",
    "    else:\n",
    "        return 0\"\"\",\n",
    "    field_type=\"TEXT\",\n",
    "    enforce_domains=\"NO_ENFORCE_DOMAINS\"\n",
    ")"
   ]
  },
  {
   "cell_type": "code",
   "execution_count": null,
   "metadata": {},
   "outputs": [],
   "source": [
    "arcpy.analysis.PairwiseClip(\n",
    "    in_features=\"grupo_socioeconomico_manzana\",\n",
    "    clip_features=\"campamentos\",\n",
    "    out_feature_class=r\"C:\\Users\\Kurta\\Documents\\ArcGIS\\Projects\\Laboratorio_DAG_1\\DAG_1S2024_L_TRABAJO_1_PARTE_2_KGC.gdb\\grupo_socioecon_PairwiseClip1\",\n",
    "    cluster_tolerance=None\n",
    ")"
   ]
  },
  {
   "cell_type": "code",
   "execution_count": null,
   "metadata": {},
   "outputs": [],
   "source": [
    "arcpy.analysis.PairwiseClip(\n",
    "    in_features=\"grupo_socioecon_uso_\",\n",
    "    clip_features=\"grupo_socioeconomico_manzana\",\n",
    "    out_feature_class=r\"C:\\Users\\Kurta\\Documents\\ArcGIS\\Projects\\Laboratorio_DAG_1\\DAG_1S2024_L_TRABAJO_1_PARTE_2_KGC.gdb\\grupo_socioecon_uso_de_suelo\",\n",
    "    cluster_tolerance=None\n",
    ")"
   ]
  },
  {
   "cell_type": "code",
   "execution_count": null,
   "metadata": {},
   "outputs": [],
   "source": [
    "arcpy.analysis.PairwiseClip(\n",
    "    in_features=\"grupo_socioecon_uso_\",\n",
    "    clip_features=\"grupo_socioecon_campamento\",\n",
    "    out_feature_class=r\"C:\\Users\\Kurta\\Documents\\ArcGIS\\Projects\\Laboratorio_DAG_1\\DAG_1S2024_L_TRABAJO_1_PARTE_2_KGC.gdb\\grupo_socioecon_uso_camp\",\n",
    "    cluster_tolerance=None\n",
    ")"
   ]
  },
  {
   "cell_type": "code",
   "execution_count": 5,
   "metadata": {},
   "outputs": [],
   "source": [
    "dirOut = r\"C:\\Users\\Kurta\\Documents\\ArcGIS\\Projects\\Laboratorio_DAG_1\\DAG_1S2024_L_TRABAJO_1_PARTE_2_KGC.gdb\\Capas_resultados\""
   ]
  },
  {
   "cell_type": "code",
   "execution_count": 3,
   "metadata": {},
   "outputs": [
    {
     "ename": "ExecuteError",
     "evalue": "Failed to execute. Parameters are not valid.\nERROR 000732: Clip Features: Dataset C:\\Users\\Kurta\\Documents\\ArcGIS\\Projects\\Laboratorio_DAG_1\\DAG_1S2024_L_TRABAJO_1_PARTE_2_KGC.gdb\\Capas_resultados\\grupo_socioeconomico_campamento does not exist or is not supported\nERROR 002852: Output Feature Class: C:\\Users\\Kurta\\Documents\\ArcGIS\\Projects\\Laboratorio_DAG_1\\DAG_1S2024_L_TRABAJO_1_PARTE_2_KGC.gdb\\campamentos exists within geodatabase as C:\\Users\\Kurta\\Documents\\ArcGIS\\Projects\\Laboratorio_DAG_1\\DAG_1S2024_L_TRABAJO_1_PARTE_2_KGC.gdb\\capas_operativas\\campamentos. A feature class name can only exist once within a geodatabase, including within all feature datasets.\nFailed to execute (PairwiseClip).\n",
     "output_type": "error",
     "traceback": [
      "\u001b[0;31m---------------------------------------------------------------------------\u001b[0m\n\u001b[0;31mExecuteError\u001b[0m                              Traceback (most recent call last)",
      "In  \u001b[0;34m[3]\u001b[0m:\nLine \u001b[0;34m7\u001b[0m:     arcpy.analysis.PairwiseClip(fcIn,fcOut,clip, cluster_tolerance=\u001b[34mNone\u001b[39;49;00m)\u001b[37m\u001b[39;49;00m\n",
      "File \u001b[0;34mC:\\Program Files\\ArcGIS\\Pro\\Resources\\ArcPy\\arcpy\\analysis.py\u001b[0m, in \u001b[0;32mPairwiseClip\u001b[0m:\nLine \u001b[0;34m1001\u001b[0m:  \u001b[34mraise\u001b[39;49;00m e\u001b[37m\u001b[39;49;00m\n",
      "File \u001b[0;34mC:\\Program Files\\ArcGIS\\Pro\\Resources\\ArcPy\\arcpy\\analysis.py\u001b[0m, in \u001b[0;32mPairwiseClip\u001b[0m:\nLine \u001b[0;34m998\u001b[0m:   retval = convertArcObjectToPythonObject(gp.PairwiseClip_analysis(*gp_fixargs((in_features, clip_features, out_feature_class, cluster_tolerance), \u001b[34mTrue\u001b[39;49;00m)))\u001b[37m\u001b[39;49;00m\n",
      "File \u001b[0;34mC:\\Program Files\\ArcGIS\\Pro\\Resources\\ArcPy\\arcpy\\geoprocessing\\_base.py\u001b[0m, in \u001b[0;32m<lambda>\u001b[0m:\nLine \u001b[0;34m512\u001b[0m:   \u001b[34mreturn\u001b[39;49;00m \u001b[34mlambda\u001b[39;49;00m *args: val(*gp_fixargs(args, \u001b[34mTrue\u001b[39;49;00m))\u001b[37m\u001b[39;49;00m\n",
      "\u001b[0;31mExecuteError\u001b[0m: Failed to execute. Parameters are not valid.\nERROR 000732: Clip Features: Dataset C:\\Users\\Kurta\\Documents\\ArcGIS\\Projects\\Laboratorio_DAG_1\\DAG_1S2024_L_TRABAJO_1_PARTE_2_KGC.gdb\\Capas_resultados\\grupo_socioeconomico_campamento does not exist or is not supported\nERROR 002852: Output Feature Class: C:\\Users\\Kurta\\Documents\\ArcGIS\\Projects\\Laboratorio_DAG_1\\DAG_1S2024_L_TRABAJO_1_PARTE_2_KGC.gdb\\campamentos exists within geodatabase as C:\\Users\\Kurta\\Documents\\ArcGIS\\Projects\\Laboratorio_DAG_1\\DAG_1S2024_L_TRABAJO_1_PARTE_2_KGC.gdb\\capas_operativas\\campamentos. A feature class name can only exist once within a geodatabase, including within all feature datasets.\nFailed to execute (PairwiseClip).\n\n\u001b[0;31m---------------------------------------------------------------------------\u001b[0m"
     ]
    }
   ],
   "source": [
    "#Ordenar\n",
    "fcIn= \"grupo_socioeconomico_manzana\"\n",
    "outName = \"grupo_socioeconomico_campamento\"\n",
    "fcOut = f\"{dirOut}\\{outName}\"\n",
    "clip=\"campamentos\"\n",
    "\n",
    "arcpy.analysis.PairwiseClip(fcIn,fcOut,clip, cluster_tolerance=None)"
   ]
  },
  {
   "cell_type": "code",
   "execution_count": 10,
   "metadata": {},
   "outputs": [
    {
     "ename": "SyntaxError",
     "evalue": "unterminated string literal (detected at line 2) (<string>, line 2)",
     "output_type": "error",
     "traceback": [
      "\u001b[0;31m---------------------------------------------------------------------------\u001b[0m\n\u001b[0;31mSyntaxError\u001b[0m                               Traceback (most recent call last)",
      "File \u001b[0;34mC:\\Program Files\\ArcGIS\\Pro\\bin\\Python\\envs\\arcgispro-py3\\Lib\\ast.py\u001b[0m, in \u001b[0;32mparse\u001b[0m:\nLine \u001b[0;34m50\u001b[0m:    \u001b[34mreturn\u001b[39;49;00m \u001b[36mcompile\u001b[39;49;00m(source, filename, mode, flags,\u001b[37m\u001b[39;49;00m\n",
      "\u001b[0;31mSyntaxError\u001b[0m: unterminated string literal (detected at line 2) (<string>, line 2)\n\u001b[0;31m---------------------------------------------------------------------------\u001b[0m"
     ]
    }
   ],
   "source": [
    "# Define el directorio de salida\n",
    "dirOut = r\"C:\\Users\\Kurta\\Documents\\ArcGIS\\Projects\\Laboratorio_DAG_1\\DAG_1S2024_L_TRABAJO_1_PARTE_2_KGC.gdb\\Capa_resultado\\\"\n",
    "\n",
    "\n",
    "\n",
    "# Define los inputs\n",
    "input_features = \"grupo_socioeconomico_manzana\"\n",
    "clip_features = \"campamentos\"\n",
    "outName = \"gse_camp\"\n",
    "# Asegúrate de incluir el nombre del archivo de salida con su extensión\n",
    "fcOut = f\"({dirOut}\\{outName})\n",
    "\n",
    "# Ejecuta PairwiseClip\n",
    "arcpy.analysis.PairwiseClip(input_features, clip_features, output_features)\n",
    "\n"
   ]
  },
  {
   "cell_type": "code",
   "execution_count": 3,
   "metadata": {},
   "outputs": [
    {
     "data": {
      "text/html": [
       "<div class='gpresult'><h2>Messages</h2><div id='messages'>Start Time: martes, 18 de junio de 2024 06:52:51 p. m.<br>Clipping input features...<br>Succeeded at martes, 18 de junio de 2024 06:52:52 p. m. (Elapsed Time: 0.96 seconds)<br></div><div id = 'default' /></div></div>"
      ],
      "text/plain": [
       "<Result 'C:\\\\\\\\Users\\\\\\\\Kurta\\\\\\\\Documents\\\\\\\\ArcGIS\\\\\\\\Projects\\\\\\\\Laboratorio_DAG_1\\\\\\\\DAG_1S2024_L_TRABAJO_1_PARTE_2_KGC.gdb\\\\\\\\Capa_resultado\\\\gse_camp'>"
      ]
     },
     "execution_count": 3,
     "metadata": {},
     "output_type": "execute_result"
    }
   ],
   "source": [
    "# Define el directorio de salida\n",
    "dirOut = r\"C:\\\\Users\\\\Kurta\\\\Documents\\\\ArcGIS\\\\Projects\\\\Laboratorio_DAG_1\\\\DAG_1S2024_L_TRABAJO_1_PARTE_2_KGC.gdb\\\\Capa_resultado\"\n",
    "\n",
    "# Define los inputs\n",
    "input_features = \"grupo_socioeconomico_manzana\"\n",
    "clip_features = \"campamentos\"\n",
    "outName = \"gse_camp\"\n",
    "# Asegúrate de incluir el nombre del archivo de salida con su extensión\n",
    "fcOut = f\"{dirOut}\\\\{outName}\"\n",
    "\n",
    "# Ejecuta PairwiseClip\n",
    "arcpy.analysis.PairwiseClip(input_features, clip_features, fcOut)"
   ]
  },
  {
   "cell_type": "code",
   "execution_count": 2,
   "metadata": {},
   "outputs": [
    {
     "ename": "ExecuteError",
     "evalue": "Failed to execute. Parameters are not valid.\nERROR 002852: Output Feature Class: C:\\\\Users\\\\Kurta\\\\Documents\\\\ArcGIS\\\\Projects\\\\Laboratorio_DAG_1\\\\DAG_1S2024_L_TRABAJO_1_PARTE_2_KGC.gdb\\\\Capa_resultado\\gse_uso exists within geodatabase as C:\\Users\\Kurta\\Documents\\ArcGIS\\Projects\\Laboratorio_DAG_1\\DAG_1S2024_L_TRABAJO_1_PARTE_2_KGC.gdb\\Capa_resultado\\gse_uso. A feature class name can only exist once within a geodatabase, including within all feature datasets.\nFailed to execute (PairwiseClip).\n",
     "output_type": "error",
     "traceback": [
      "\u001b[0;31m---------------------------------------------------------------------------\u001b[0m\n\u001b[0;31mExecuteError\u001b[0m                              Traceback (most recent call last)",
      "In  \u001b[0;34m[2]\u001b[0m:\nLine \u001b[0;34m12\u001b[0m:    arcpy.analysis.PairwiseClip(input_features, clip_features, fcOut)\u001b[37m\u001b[39;49;00m\n",
      "File \u001b[0;34mC:\\Program Files\\ArcGIS\\Pro\\Resources\\ArcPy\\arcpy\\analysis.py\u001b[0m, in \u001b[0;32mPairwiseClip\u001b[0m:\nLine \u001b[0;34m1001\u001b[0m:  \u001b[34mraise\u001b[39;49;00m e\u001b[37m\u001b[39;49;00m\n",
      "File \u001b[0;34mC:\\Program Files\\ArcGIS\\Pro\\Resources\\ArcPy\\arcpy\\analysis.py\u001b[0m, in \u001b[0;32mPairwiseClip\u001b[0m:\nLine \u001b[0;34m998\u001b[0m:   retval = convertArcObjectToPythonObject(gp.PairwiseClip_analysis(*gp_fixargs((in_features, clip_features, out_feature_class, cluster_tolerance), \u001b[34mTrue\u001b[39;49;00m)))\u001b[37m\u001b[39;49;00m\n",
      "File \u001b[0;34mC:\\Program Files\\ArcGIS\\Pro\\Resources\\ArcPy\\arcpy\\geoprocessing\\_base.py\u001b[0m, in \u001b[0;32m<lambda>\u001b[0m:\nLine \u001b[0;34m512\u001b[0m:   \u001b[34mreturn\u001b[39;49;00m \u001b[34mlambda\u001b[39;49;00m *args: val(*gp_fixargs(args, \u001b[34mTrue\u001b[39;49;00m))\u001b[37m\u001b[39;49;00m\n",
      "\u001b[0;31mExecuteError\u001b[0m: Failed to execute. Parameters are not valid.\nERROR 002852: Output Feature Class: C:\\\\Users\\\\Kurta\\\\Documents\\\\ArcGIS\\\\Projects\\\\Laboratorio_DAG_1\\\\DAG_1S2024_L_TRABAJO_1_PARTE_2_KGC.gdb\\\\Capa_resultado\\gse_uso exists within geodatabase as C:\\Users\\Kurta\\Documents\\ArcGIS\\Projects\\Laboratorio_DAG_1\\DAG_1S2024_L_TRABAJO_1_PARTE_2_KGC.gdb\\Capa_resultado\\gse_uso. A feature class name can only exist once within a geodatabase, including within all feature datasets.\nFailed to execute (PairwiseClip).\n\n\u001b[0;31m---------------------------------------------------------------------------\u001b[0m"
     ]
    }
   ],
   "source": [
    "# Define el directorio de salida\n",
    "dirOut = r\"C:\\\\Users\\\\Kurta\\\\Documents\\\\ArcGIS\\\\Projects\\\\Laboratorio_DAG_1\\\\DAG_1S2024_L_TRABAJO_1_PARTE_2_KGC.gdb\\\\Capa_resultado\"\n",
    "\n",
    "# Define los inputs\n",
    "input_features = \"grupo_socioeconomico_manzana\"\n",
    "clip_features = \"uso_de_suelo\"\n",
    "outName = \"gse_uso\"\n",
    "# Asegúrate de incluir el nombre del archivo de salida con su extensión\n",
    "fcOut = f\"{dirOut}\\\\{outName}\"\n",
    "\n",
    "# Ejecuta PairwiseClip\n",
    "arcpy.analysis.PairwiseClip(input_features, clip_features, fcOut)"
   ]
  },
  {
   "cell_type": "code",
   "execution_count": 16,
   "metadata": {},
   "outputs": [
    {
     "ename": "ExecuteError",
     "evalue": "Failed to execute. Parameters are not valid.\nERROR 002852: Output Feature Class: C:\\\\Users\\\\Kurta\\\\Documents\\\\ArcGIS\\\\Projects\\\\Laboratorio_DAG_1\\\\DAG_1S2024_L_TRABAJO_1_PARTE_2_KGC.gdb\\\\Capa_resultado\\gse_uso_camp exists within geodatabase as C:\\Users\\Kurta\\Documents\\ArcGIS\\Projects\\Laboratorio_DAG_1\\DAG_1S2024_L_TRABAJO_1_PARTE_2_KGC.gdb\\Capa_resultado\\gse_uso_camp. A feature class name can only exist once within a geodatabase, including within all feature datasets.\nFailed to execute (PairwiseClip).\n",
     "output_type": "error",
     "traceback": [
      "\u001b[0;31m---------------------------------------------------------------------------\u001b[0m\n\u001b[0;31mExecuteError\u001b[0m                              Traceback (most recent call last)",
      "In  \u001b[0;34m[16]\u001b[0m:\nLine \u001b[0;34m12\u001b[0m:    arcpy.analysis.PairwiseClip(input_features, clip_features, fcOut)\u001b[37m\u001b[39;49;00m\n",
      "File \u001b[0;34mC:\\Program Files\\ArcGIS\\Pro\\Resources\\ArcPy\\arcpy\\analysis.py\u001b[0m, in \u001b[0;32mPairwiseClip\u001b[0m:\nLine \u001b[0;34m1001\u001b[0m:  \u001b[34mraise\u001b[39;49;00m e\u001b[37m\u001b[39;49;00m\n",
      "File \u001b[0;34mC:\\Program Files\\ArcGIS\\Pro\\Resources\\ArcPy\\arcpy\\analysis.py\u001b[0m, in \u001b[0;32mPairwiseClip\u001b[0m:\nLine \u001b[0;34m998\u001b[0m:   retval = convertArcObjectToPythonObject(gp.PairwiseClip_analysis(*gp_fixargs((in_features, clip_features, out_feature_class, cluster_tolerance), \u001b[34mTrue\u001b[39;49;00m)))\u001b[37m\u001b[39;49;00m\n",
      "File \u001b[0;34mC:\\Program Files\\ArcGIS\\Pro\\Resources\\ArcPy\\arcpy\\geoprocessing\\_base.py\u001b[0m, in \u001b[0;32m<lambda>\u001b[0m:\nLine \u001b[0;34m512\u001b[0m:   \u001b[34mreturn\u001b[39;49;00m \u001b[34mlambda\u001b[39;49;00m *args: val(*gp_fixargs(args, \u001b[34mTrue\u001b[39;49;00m))\u001b[37m\u001b[39;49;00m\n",
      "\u001b[0;31mExecuteError\u001b[0m: Failed to execute. Parameters are not valid.\nERROR 002852: Output Feature Class: C:\\\\Users\\\\Kurta\\\\Documents\\\\ArcGIS\\\\Projects\\\\Laboratorio_DAG_1\\\\DAG_1S2024_L_TRABAJO_1_PARTE_2_KGC.gdb\\\\Capa_resultado\\gse_uso_camp exists within geodatabase as C:\\Users\\Kurta\\Documents\\ArcGIS\\Projects\\Laboratorio_DAG_1\\DAG_1S2024_L_TRABAJO_1_PARTE_2_KGC.gdb\\Capa_resultado\\gse_uso_camp. A feature class name can only exist once within a geodatabase, including within all feature datasets.\nFailed to execute (PairwiseClip).\n\n\u001b[0;31m---------------------------------------------------------------------------\u001b[0m"
     ]
    }
   ],
   "source": [
    "# Define el directorio de salida\n",
    "dirOut = r\"C:\\\\Users\\\\Kurta\\\\Documents\\\\ArcGIS\\\\Projects\\\\Laboratorio_DAG_1\\\\DAG_1S2024_L_TRABAJO_1_PARTE_2_KGC.gdb\\\\Capa_resultado\"\n",
    "\n",
    "# Define los inputs\n",
    "input_features = \"gse_camp\"\n",
    "clip_features = \"gse_uso\"\n",
    "outName = \"gse_uso_camp\"\n",
    "# Asegúrate de incluir el nombre del archivo de salida con su extensión\n",
    "fcOut = f\"{dirOut}\\\\{outName}\"\n",
    "\n",
    "# Ejecuta PairwiseClip\n",
    "arcpy.analysis.PairwiseClip(input_features, clip_features, fcOut)"
   ]
  },
  {
   "cell_type": "code",
   "execution_count": 1,
   "metadata": {},
   "outputs": [
    {
     "ename": "NameError",
     "evalue": "name 'dirOut' is not defined",
     "output_type": "error",
     "traceback": [
      "\u001b[0;31m---------------------------------------------------------------------------\u001b[0m\n\u001b[0;31mNameError\u001b[0m                                 Traceback (most recent call last)",
      "In  \u001b[0;34m[1]\u001b[0m:\nLine \u001b[0;34m3\u001b[0m:     fcOut = \u001b[33mf\u001b[39;49;00m\u001b[33m\"\u001b[39;49;00m\u001b[33m{\u001b[39;49;00mdirOut\u001b[33m}\u001b[39;49;00m\u001b[33m\\\\\u001b[39;49;00m\u001b[33m{\u001b[39;49;00moutName\u001b[33m}\u001b[39;49;00m\u001b[33m\"\u001b[39;49;00m\u001b[37m\u001b[39;49;00m\n",
      "\u001b[0;31mNameError\u001b[0m: name 'dirOut' is not defined\n\u001b[0;31m---------------------------------------------------------------------------\u001b[0m"
     ]
    }
   ],
   "source": [
    "# Define un nuevo nombre para el archivo de salida para evitar conflictos\n",
    "outName = \"gse_uso_camp_\"  # Cambia 'new' por un identificador único si es necesario\n",
    "fcOut = f\"{dirOut}\\\\{outName}\"\n",
    "\n",
    "# Ejecuta PairwiseClip con el nuevo nombre de salida\n",
    "arcpy.analysis.PairwiseClip(input_features, clip_features, fcOut)"
   ]
  },
  {
   "cell_type": "code",
   "execution_count": null,
   "metadata": {},
   "outputs": [],
   "source": [
    "arcpy.management.CalculateField(gse_uso_camp_,\"EDC\", \"indice(!Hacinamiento!,!GSE!)\",\"PYTHON3\",\n",
    "  \n",
    "    field=\"EDC\",\n",
    "    expression=\"indice(!Hacinamiento!,!GSE!)\",\n",
    "    expression_type=\"PYTHON3\",\n",
    "    code_block=\"\"\"def indice(x,y):\n",
    "    if x==\"Desconocido\" and y== 0:\n",
    "        return 1\n",
    "    elif x==\"Hacinamiento Medio\" and y== 3:\n",
    "        return 1\n",
    "    elif x==\"Hacinamiento \"\n",
    "    else:\n",
    "        return 0\"\"\",\n",
    "    field_type=\"TEXT\",\n",
    "    enforce_domains=\"NO_ENFORCE_DOMAINS\""
   ]
  },
  {
   "cell_type": "code",
   "execution_count": 1,
   "metadata": {},
   "outputs": [
    {
     "ename": "IndentationError",
     "evalue": "unindent does not match any outer indentation level (<tokenize>, line 6)",
     "output_type": "error",
     "traceback": [
      "\u001b[0;31m---------------------------------------------------------------------------\u001b[0m\n\u001b[0;31mIndentationError\u001b[0m                          Traceback (most recent call last)",
      "File \u001b[0;34mC:\\Program Files\\ArcGIS\\Pro\\bin\\Python\\envs\\arcgispro-py3\\Lib\\site-packages\\IPython\\core\\interactiveshell.py\u001b[0m, in \u001b[0;32mtransform_cell\u001b[0m:\nLine \u001b[0;34m3290\u001b[0m:  cell = \u001b[36mself\u001b[39;49;00m.input_transformer_manager.transform_cell(raw_cell)\u001b[37m\u001b[39;49;00m\n",
      "File \u001b[0;34mC:\\Program Files\\ArcGIS\\Pro\\bin\\Python\\envs\\arcgispro-py3\\Lib\\site-packages\\IPython\\core\\inputtransformer2.py\u001b[0m, in \u001b[0;32mtransform_cell\u001b[0m:\nLine \u001b[0;34m587\u001b[0m:   lines = \u001b[36mself\u001b[39;49;00m.do_token_transforms(lines)\u001b[37m\u001b[39;49;00m\n",
      "File \u001b[0;34mC:\\Program Files\\ArcGIS\\Pro\\bin\\Python\\envs\\arcgispro-py3\\Lib\\site-packages\\IPython\\core\\inputtransformer2.py\u001b[0m, in \u001b[0;32mdo_token_transforms\u001b[0m:\nLine \u001b[0;34m572\u001b[0m:   changed, lines = \u001b[36mself\u001b[39;49;00m.do_one_token_transform(lines)\u001b[37m\u001b[39;49;00m\n",
      "File \u001b[0;34mC:\\Program Files\\ArcGIS\\Pro\\bin\\Python\\envs\\arcgispro-py3\\Lib\\site-packages\\IPython\\core\\inputtransformer2.py\u001b[0m, in \u001b[0;32mdo_one_token_transform\u001b[0m:\nLine \u001b[0;34m552\u001b[0m:   tokens_by_line = make_tokens_by_line(lines)\u001b[37m\u001b[39;49;00m\n",
      "File \u001b[0;34mC:\\Program Files\\ArcGIS\\Pro\\bin\\Python\\envs\\arcgispro-py3\\Lib\\site-packages\\IPython\\core\\inputtransformer2.py\u001b[0m, in \u001b[0;32mmake_tokens_by_line\u001b[0m:\nLine \u001b[0;34m481\u001b[0m:   \u001b[34mfor\u001b[39;49;00m token \u001b[35min\u001b[39;49;00m tokenize.generate_tokens(\u001b[36miter\u001b[39;49;00m(lines).\u001b[32m__next__\u001b[39;49;00m):\u001b[37m\u001b[39;49;00m\n",
      "File \u001b[0;34mC:\\Program Files\\ArcGIS\\Pro\\bin\\Python\\envs\\arcgispro-py3\\Lib\\tokenize.py\u001b[0m, in \u001b[0;32m_tokenize\u001b[0m:\nLine \u001b[0;34m516\u001b[0m:   \u001b[34mraise\u001b[39;49;00m \u001b[36mIndentationError\u001b[39;49;00m(\u001b[37m\u001b[39;49;00m\n",
      "\u001b[0;31mIndentationError\u001b[0m: unindent does not match any outer indentation level (<tokenize>, line 6)\n\u001b[0;31m---------------------------------------------------------------------------\u001b[0m"
     ]
    }
   ],
   "source": [
    "fcIn = \"manzana_uso\"\n",
    "field = \"gse\"\n",
    "\"def indice(x,y):\n",
    " if x==\"Desconocido\" and y== 0:\n",
    "        return 1\n",
    "    elif x==\"Hacinamiento Leve\" and y== 3:\n",
    "        return 1\n",
    "    elif x==\"Hacinamiento Medio\" and y== 5:\n",
    "        return 1\n",
    "    elif x==\"Hacinamiento Leve\" and y== 4:\n",
    "        return 1\n",
    "    elif x==\"Hacinamiento Leve\" and y== 5:\n",
    "        return 1\n",
    "    else:\n",
    "        return 0,\n",
    "    field_type=\"TEXT\",\n",
    "\n",
    "arcpy.managment.CalculateField(fcIn , field, …)"
   ]
  },
  {
   "cell_type": "code",
   "execution_count": 6,
   "metadata": {},
   "outputs": [
    {
     "ename": "SyntaxError",
     "evalue": "invalid syntax (<string>, line 5)",
     "output_type": "error",
     "traceback": [
      "\u001b[0;31m---------------------------------------------------------------------------\u001b[0m\n\u001b[0;31mSyntaxError\u001b[0m                               Traceback (most recent call last)",
      "File \u001b[0;34mC:\\Program Files\\ArcGIS\\Pro\\bin\\Python\\envs\\arcgispro-py3\\Lib\\ast.py\u001b[0m, in \u001b[0;32mparse\u001b[0m:\nLine \u001b[0;34m50\u001b[0m:    \u001b[34mreturn\u001b[39;49;00m \u001b[36mcompile\u001b[39;49;00m(source, filename, mode, flags,\u001b[37m\u001b[39;49;00m\n",
      "\u001b[0;31mSyntaxError\u001b[0m: invalid syntax (<string>, line 5)\n\u001b[0;31m---------------------------------------------------------------------------\u001b[0m"
     ]
    }
   ],
   "source": [
    "fcIn2 = \"manzana_uso\"\n",
    "field = \"gse\"\n",
    "expression=\"indice(!Hacinamiento!,!GSE!)\",\n",
    "expression_type=\"PYTHON3\"\n",
    "code_block=def indice(x, y):\n",
    "    if x == \"Desconocido\" and y == 0:\n",
    "        return 1\n",
    "    elif x == \"Hacinamiento Leve\" and y == 3:\n",
    "        return 1\n",
    "    elif x == \"Hacinamiento Medio\" and y == 5:\n",
    "        return 1\n",
    "    elif x == \"Hacinamiento Leve\" and y == 4:\n",
    "        return 1\n",
    "    elif x == \"Hacinamiento Leve\" and y == 5:\n",
    "        return 1\n",
    "    else:\n",
    "        return 0\n",
    "\n",
    "# Assuming you want to calculate the field with the 'indice' function\n",
    "arcpy.management.CalculateField(fcIn, field, 'indice(!gse!, !Hacinamiento!)', field_type=\"TEXT\")"
   ]
  },
  {
   "cell_type": "code",
   "execution_count": 13,
   "metadata": {},
   "outputs": [
    {
     "data": {
      "text/html": [
       "<div class='gpresult'><h2>Messages</h2><div id='messages'>Start Time: martes, 18 de junio de 2024 04:53:09 p. m.<br>Succeeded at martes, 18 de junio de 2024 04:53:09 p. m. (Elapsed Time: 0.78 seconds)<br></div><div id = 'default' /></div></div>"
      ],
      "text/plain": [
       "<Result 'manzana_uso'>"
      ]
     },
     "execution_count": 13,
     "metadata": {},
     "output_type": "execute_result"
    }
   ],
   "source": [
    "fcIn = \"manzana_uso\"\n",
    "field = \"gse\"\n",
    "expression = \"indice(!Hacinamiento!, !GSE!)\"\n",
    "expression_type = \"PYTHON3\"\n",
    "code_block = \"\"\"\n",
    "def indice(x, y):\n",
    "    if x == \"Desconocido\" and y == 0:\n",
    "        return 1\n",
    "    elif x == \"Hacinamiento Leve\" and y == 3:\n",
    "        return 1\n",
    "    elif x == \"Hacinamiento Medio\" and y == 5:\n",
    "        return 1\n",
    "    elif x == \"Hacinamiento Leve\" and y == 4:\n",
    "        return 1\n",
    "    elif x == \"Hacinamiento Leve\" and y == 5:\n",
    "        return 1\n",
    "    else:\n",
    "        return 0\n",
    "\"\"\"\n",
    "\n",
    "# Now call CalculateField with all parameters correctly\n",
    "arcpy.management.CalculateField(fcIn, field, expression, expression_type, code_block)"
   ]
  },
  {
   "cell_type": "code",
   "execution_count": 12,
   "metadata": {},
   "outputs": [
    {
     "data": {
      "text/html": [
       "<div class='gpresult'><h2>Messages</h2><div id='messages'>Start Time: martes, 18 de junio de 2024 04:49:15 p. m.<br>Succeeded at martes, 18 de junio de 2024 04:49:15 p. m. (Elapsed Time: 0.81 seconds)<br></div><div id = 'default' /></div></div>"
      ],
      "text/plain": [
       "<Result 'manzana_uso'>"
      ]
     },
     "execution_count": 12,
     "metadata": {},
     "output_type": "execute_result"
    }
   ],
   "source": [
    "# Now call CalculateField with all parameters correctly\n",
    "arcpy.management.CalculateField(fcIn, field, expression, expression_type, code_block)"
   ]
  },
  {
   "cell_type": "code",
   "execution_count": 16,
   "metadata": {},
   "outputs": [
    {
     "ename": "IndentationError",
     "evalue": "unexpected indent (<string>, line 3)",
     "output_type": "error",
     "traceback": [
      "\u001b[0;31m---------------------------------------------------------------------------\u001b[0m\n\u001b[0;31mIndentationError\u001b[0m                          Traceback (most recent call last)",
      "File \u001b[0;34mC:\\Program Files\\ArcGIS\\Pro\\bin\\Python\\envs\\arcgispro-py3\\Lib\\ast.py\u001b[0m, in \u001b[0;32mparse\u001b[0m:\nLine \u001b[0;34m50\u001b[0m:    \u001b[34mreturn\u001b[39;49;00m \u001b[36mcompile\u001b[39;49;00m(source, filename, mode, flags,\u001b[37m\u001b[39;49;00m\n",
      "\u001b[0;31mIndentationError\u001b[0m: unexpected indent (<string>, line 3)\n\u001b[0;31m---------------------------------------------------------------------------\u001b[0m"
     ]
    }
   ],
   "source": [
    "#resultado de posibles campamentos con copy features\n",
    "\n",
    "    in_features=\"manzana_uso\",\n",
    "    out_feature_class=r\"C:\\Users\\Kurta\\Documents\\ArcGIS\\Projects\\Laboratorio_DAG_1\\DAG_1S2024_L_TRABAJO_1_PARTE_2_KGC.gdb\\posibles_camp\",\n",
    "    config_keyword=\"\",\n",
    "    spatial_grid_1=None,\n",
    "    spatial_grid_2=None,\n",
    "    spatial_grid_3=None\n",
    ")\n",
    "#resultado de posibles campamentos con copy features\n",
    "arcpy.management.CopyFeatures(in_feature,out_feature_class)"
   ]
  },
  {
   "cell_type": "code",
   "execution_count": 15,
   "metadata": {},
   "outputs": [
    {
     "ename": "NameError",
     "evalue": "name 'in_feature' is not defined",
     "output_type": "error",
     "traceback": [
      "\u001b[0;31m---------------------------------------------------------------------------\u001b[0m\n\u001b[0;31mNameError\u001b[0m                                 Traceback (most recent call last)",
      "In  \u001b[0;34m[15]\u001b[0m:\nLine \u001b[0;34m2\u001b[0m:     arcpy.management.CopyFeatures(in_feature,out_feature_class)\u001b[37m\u001b[39;49;00m\n",
      "\u001b[0;31mNameError\u001b[0m: name 'in_feature' is not defined\n\u001b[0;31m---------------------------------------------------------------------------\u001b[0m"
     ]
    }
   ],
   "source": [
    "#resultado de posibles campamentos con copy features\n",
    "arcpy.management.CopyFeatures(in_feature,out_feature_class)"
   ]
  },
  {
   "cell_type": "code",
   "execution_count": 18,
   "metadata": {},
   "outputs": [
    {
     "ename": "SyntaxError",
     "evalue": "unterminated string literal (detected at line 2) (<string>, line 2)",
     "output_type": "error",
     "traceback": [
      "\u001b[0;31m---------------------------------------------------------------------------\u001b[0m\n\u001b[0;31mSyntaxError\u001b[0m                               Traceback (most recent call last)",
      "File \u001b[0;34mC:\\Program Files\\ArcGIS\\Pro\\bin\\Python\\envs\\arcgispro-py3\\Lib\\ast.py\u001b[0m, in \u001b[0;32mparse\u001b[0m:\nLine \u001b[0;34m50\u001b[0m:    \u001b[34mreturn\u001b[39;49;00m \u001b[36mcompile\u001b[39;49;00m(source, filename, mode, flags,\u001b[37m\u001b[39;49;00m\n",
      "\u001b[0;31mSyntaxError\u001b[0m: unterminated string literal (detected at line 2) (<string>, line 2)\n\u001b[0;31m---------------------------------------------------------------------------\u001b[0m"
     ]
    }
   ],
   "source": [
    "dirOut=r\"C:\\Users\\Kurta\\Documents\\ArcGIS\\Projects\\Laboratorio_DAG_1\\DAG_1S2024_L_TRABAJO_1_PARTE_2_KGC.gdb\\\n",
    "fcIn=\"manzana_uso\"\n",
    "outName=\"posibles_camp\"\n",
    "fcOut=f\"{dirOut}\\{outName}\"\n",
    "\n",
    "#resultado de posibles campamentos con copy features\n",
    "arcpy.management.CopyFeatures(in_feature,out_feature_class)\n"
   ]
  },
  {
   "cell_type": "code",
   "execution_count": 1,
   "metadata": {},
   "outputs": [
    {
     "data": {
      "text/html": [
       "<div class='gpresult'><h2>Messages</h2><div id='messages'>Start Time: miércoles, 19 de junio de 2024 04:56:47 p. m.<br>Succeeded at miércoles, 19 de junio de 2024 04:56:48 p. m. (Elapsed Time: 1.52 seconds)<br></div><div id = 'default' /></div></div>"
      ],
      "text/plain": [
       "<Result 'C:\\\\\\\\Users\\\\\\\\Kurta\\\\\\\\Documents\\\\\\\\ArcGIS\\\\\\\\Projects\\\\\\\\Laboratorio_DAG_1\\\\\\\\DAG_1S2024_L_TRABAJO_1_PARTE_2_KGC.gdb\\\\posibles_camp'>"
      ]
     },
     "execution_count": 1,
     "metadata": {},
     "output_type": "execute_result"
    }
   ],
   "source": [
    "dirOut = r\"C:\\\\Users\\\\Kurta\\\\Documents\\\\ArcGIS\\\\Projects\\\\Laboratorio_DAG_1\\\\DAG_1S2024_L_TRABAJO_1_PARTE_2_KGC.gdb\"\n",
    "fcIn = \"manzana_uso\"\n",
    "outName = \"posibles_camp\"\n",
    "fcOut = f\"{dirOut}\\\\{outName}\"\n",
    "\n",
    "# resultado de posibles campamentos con copy features\n",
    "arcpy.management.CopyFeatures(fcIn, fcOut)"
   ]
  },
  {
   "cell_type": "code",
   "execution_count": null,
   "metadata": {},
   "outputs": [],
   "source": [
    "arcpy.ImportToolbox(r\"C:\\Users\\Kurta\\Documents\\ArcGIS\\Projects\\Laboratorio_DAG_1\\DAG_1S2024_L_TRABAJO_1_PARTE_2_KGC.gdb\\NewToolbox\")\n",
    "arcpy.NewToolbox.PairwiseclipdeGSEyCAMP(\n",
    "    grupo_socioeconomico_manzana=r\"C:\\Users\\Kurta\\Documents\\ArcGIS\\Projects\\Laboratorio_DAG_1\\DAG_1S2024_L_TRABAJO_1_PARTE_2_KGC.gdb\\capas_operativas\\grupo_socioeconomico_manzana\",\n",
    "    Directorio=r\"C:\\Users\\Kurta\\Documents\\ArcGIS\\Projects\\Laboratorio_DAG_1\\DAG_1S2024_L_TRABAJO_1_PARTE_2_KGC.gdb\\Capa_resultado\",\n",
    "    grupo_socio_economico_de_campamentos_por_manzana=\"GSE_CAMP\"\n",
    ")"
   ]
  },
  {
   "cell_type": "code",
   "execution_count": null,
   "metadata": {},
   "outputs": [],
   "source": [
    "arcpy.ImportToolbox(r\"C:\\Users\\Kurta\\Documents\\ArcGIS\\Projects\\Laboratorio_DAG_1\\DAG_1S2024_L_TRABAJO_1_PARTE_2_KGC.gdb\\NewToolbox\")\n",
    "arcpy.NewToolbox.PairwiseclipdeGSEyCAMP(\n",
    "    Capa GSE por comuna=r\"C:\\Users\\Kurta\\Documents\\ArcGIS\\Projects\\Laboratorio_DAG_1\\DAG_1S2024_L_TRABAJO_1_PARTE_2_KGC.gdb\\capas_operativas\\grupo_socioeconomico_manzana\",\n",
    "    Directorio=r\"C:\\Users\\Kurta\\Documents\\ArcGIS\\Projects\\Laboratorio_DAG_1\\DAG_1S2024_L_TRABAJO_1_PARTE_2_KGC.gdb\\Capa_resultado\",\n",
    "    Nombre de Powerwise Clip=\"resultado\"\n",
    ")"
   ]
  },
  {
   "cell_type": "code",
   "execution_count": null,
   "metadata": {},
   "outputs": [],
   "source": [
    "arcpy.management.SelectLayerByAttribute(\n",
    "    in_layer_or_view=\"uso_gse_SpatialJoin\",\n",
    "    selection_type=\"NEW_SELECTION\",\n",
    "    where_clause=\"Posibles =\"C:\\\\Users\\\\Kurta\\\\Documents\\\\ArcGIS\\\\Projects\\\\Laboratorio_DAG_1\\\\DAG_1S2024_L_TRABAJO_1_PARTE_2_KGC.gdb\\\\Capa_resultado\\\\gse_uso\" 1\",\n",
    "    invert_where_clause=None\n",
    ")"
   ]
  },
  {
   "cell_type": "code",
   "execution_count": 1,
   "metadata": {},
   "outputs": [
    {
     "data": {
      "text/html": [
       "<div class='gpresult'><h2>Messages</h2><div id='messages'>Start Time: miércoles, 19 de junio de 2024 07:42:05 p. m.<br>Succeeded at miércoles, 19 de junio de 2024 07:42:07 p. m. (Elapsed Time: 1.70 seconds)<br></div><div id = 'default' /></div></div>"
      ],
      "text/plain": [
       "<Result 'C:\\\\Users\\\\Kurta\\\\Documents\\\\ArcGIS\\\\Projects\\\\Laboratorio_DAG_1\\\\DAG_1S2024_L_TRABAJO_1_PARTE_2_KGC.gdb\\\\Capa_resultado\\\\campamentos_pot'>"
      ]
     },
     "execution_count": 1,
     "metadata": {},
     "output_type": "execute_result"
    }
   ],
   "source": [
    "arcpy.conversion.ExportFeatures(\n",
    "    in_features=\"uso_gse_SpatialJoin\",\n",
    "    out_features=r\"C:\\Users\\Kurta\\Documents\\ArcGIS\\Projects\\Laboratorio_DAG_1\\DAG_1S2024_L_TRABAJO_1_PARTE_2_KGC.gdb\\Capa_resultado\\campamentos_pot\",\n",
    "    where_clause=\"Posibles = 1\",\n",
    "    use_field_alias_as_name=\"NOT_USE_ALIAS\",\n",
    "    field_mapping='Join_Count \"Join_Count\" true true false 4 Long 0 0,First,#,uso_gse_SpatialJoin,Join_Count,-1,-1;TARGET_FID \"TARGET_FID\" true true false 4 Long 0 0,First,#,uso_gse_SpatialJoin,TARGET_FID,-1,-1;objectid \"objectid\" true true false 4 Long 0 0,First,#,uso_gse_SpatialJoin,objectid,-1,-1;shape_leng \"shape_leng\" true true false 8 Double 0 0,First,#,uso_gse_SpatialJoin,shape_leng,-1,-1;dis_elec \"dis_elec\" true true false 4 Long 0 0,First,#,uso_gse_SpatialJoin,dis_elec,-1,-1;cir_sena \"cir_sena\" true true false 4 Long 0 0,First,#,uso_gse_SpatialJoin,cir_sena,-1,-1;cod_comuna \"cod_comuna\" true true false 4 Long 0 0,First,#,uso_gse_SpatialJoin,cod_comuna,-1,-1;codregion \"codregion\" true true false 4 Long 0 0,First,#,uso_gse_SpatialJoin,codregion,-1,-1;st_area_sh \"st_area_sh\" true true false 8 Double 0 0,First,#,uso_gse_SpatialJoin,st_area_sh,-1,-1;st_length_ \"st_length_\" true true false 8 Double 0 0,First,#,uso_gse_SpatialJoin,st_length_,-1,-1;Region \"Region\" true true false 60 Text 0 0,First,#,uso_gse_SpatialJoin,Region,0,59;Comuna \"Comuna\" true true false 60 Text 0 0,First,#,uso_gse_SpatialJoin,Comuna,0,59;Provincia \"Provincia\" true true false 60 Text 0 0,First,#,uso_gse_SpatialJoin,Provincia,0,59;FID_1 \"FID_1\" true true false 4 Long 0 0,First,#,uso_gse_SpatialJoin,FID_1,-1,-1;POLY_ID \"POLY_ID\" true true false 4 Long 0 0,First,#,uso_gse_SpatialJoin,POLY_ID,-1,-1;CODINE011 \"CODINE011\" true true false 14 Text 0 0,First,#,uso_gse_SpatialJoin,CODINE011,0,13;OBJECTID_12 \"OBJECTID\" true true false 4 Long 0 0,First,#,uso_gse_SpatialJoin,OBJECTID_12,-1,-1;IDMZ \"IDMZ\" true true false 8 Double 0 0,First,#,uso_gse_SpatialJoin,IDMZ,-1,-1;puntaje_es \"puntaje_es\" true true false 8 Double 0 0,First,#,uso_gse_SpatialJoin,puntaje_es,-1,-1;EDUC \"EDUC\" true true false 8 Double 0 0,First,#,uso_gse_SpatialJoin,EDUC,-1,-1;puntaje_au \"puntaje_au\" true true false 2 Short 0 0,First,#,uso_gse_SpatialJoin,puntaje_au,-1,-1;Group_1 \"Group_1\" true true false 8 Double 0 0,First,#,uso_gse_SpatialJoin,Group_1,-1,-1;Hacin \"Hacin\" true true false 8 Double 0 0,First,#,uso_gse_SpatialJoin,Hacin,-1,-1;HacinClas \"HacinClas\" true true false 21 Text 0 0,First,#,uso_gse_SpatialJoin,HacinClas,0,20;Hacinpunt \"Hacinpunt\" true true false 2 Short 0 0,First,#,uso_gse_SpatialJoin,Hacinpunt,-1,-1;NSE \"NSE\" true true false 8 Double 0 0,First,#,uso_gse_SpatialJoin,NSE,-1,-1;CODINE \"CODINE\" true true false 14 Text 0 0,First,#,uso_gse_SpatialJoin,CODINE,0,13;ZONA \"ZONA\" true true false 1 Text 0 0,First,#,uso_gse_SpatialJoin,ZONA,0,254;Shape__Are \"Shape__Are\" true true false 8 Double 0 0,First,#,uso_gse_SpatialJoin,Shape__Are,-1,-1;Shape__Len \"Shape__Len\" true true false 8 Double 0 0,First,#,uso_gse_SpatialJoin,Shape__Len,-1,-1;GSE \"GSE\" true true false 2 Short 0 0,First,#,uso_gse_SpatialJoin,GSE,-1,-1;Q \"Q\" true true false 2 Short 0 0,First,#,uso_gse_SpatialJoin,Q,-1,-1;Shape_Length_1 \"Shape_Length\" true true false 8 Double 0 0,First,#,uso_gse_SpatialJoin,Shape_Length_1,-1,-1;Shape_Area_1 \"Shape_Area\" true true false 8 Double 0 0,First,#,uso_gse_SpatialJoin,Shape_Area_1,-1,-1;Hacinamiento \"Hacinamiento\" true true false 255 Text 0 0,First,#,uso_gse_SpatialJoin,Hacinamiento,0,254;Shape_Length \"Shape_Length\" false true true 8 Double 0 0,First,#,uso_gse_SpatialJoin,Shape_Length,-1,-1;Shape_Area \"Shape_Area\" false true true 8 Double 0 0,First,#,uso_gse_SpatialJoin,Shape_Area,-1,-1;Posibles \"Posibles\" true true false 2 Short 0 0,First,#,uso_gse_SpatialJoin,Posibles,-1,-1',\n",
    "    sort_field=None\n",
    ")"
   ]
  },
  {
   "cell_type": "code",
   "execution_count": 1,
   "metadata": {},
   "outputs": [
    {
     "ename": "SyntaxError",
     "evalue": "positional argument follows keyword argument (<string>, line 1)",
     "output_type": "error",
     "traceback": [
      "\u001b[0;31m---------------------------------------------------------------------------\u001b[0m\n\u001b[0;31mSyntaxError\u001b[0m                               Traceback (most recent call last)",
      "File \u001b[0;34mC:\\Program Files\\ArcGIS\\Pro\\bin\\Python\\envs\\arcgispro-py3\\Lib\\ast.py\u001b[0m, in \u001b[0;32mparse\u001b[0m:\nLine \u001b[0;34m50\u001b[0m:    \u001b[34mreturn\u001b[39;49;00m \u001b[36mcompile\u001b[39;49;00m(source, filename, mode, flags,\u001b[37m\u001b[39;49;00m\n",
      "\u001b[0;31mSyntaxError\u001b[0m: positional argument follows keyword argument (<string>, line 1)\n\u001b[0;31m---------------------------------------------------------------------------\u001b[0m"
     ]
    }
   ],
   "source": [
    "arcpy.conversion.ExportFeatures(fcIn, where_clause=\"Posibles =1\", field_mapping='Join_Count \"Join_Count\" true true false 4 Long 0 0,First,#,uso_gse_SpatialJoin,Join_Count,-1,-1;TARGET_FID \"TARGET_FID\" true true false 4 Long 0 0,First,#,uso_gse_SpatialJoin,TARGET_FID,-1,-1;objectid \"objectid\" true true false 4 Long 0 0,First,#,uso_gse_SpatialJoin,objectid,-1,-1;shape_leng \"shape_leng\" true true false 8 Double 0 0,First,#,uso_gse_SpatialJoin,shape_leng,-1,-1;dis_elec \"dis_elec\" true true false 4 Long 0 0,First,#,uso_gse_SpatialJoin,dis_elec,-1,-1;cir_sena \"cir_sena\" true true false 4 Long 0 0,First,#,uso_gse_SpatialJoin,cir_sena,-1,-1;cod_comuna \"cod_comuna\" true true false 4 Long 0 0,First,#,uso_gse_SpatialJoin,cod_comuna,-1,-1;codregion \"codregion\" true true false 4 Long 0 0,First,#,uso_gse_SpatialJoin,codregion,-1,-1;st_area_sh \"st_area_sh\" true true false 8 Double 0 0,First,#,uso_gse_SpatialJoin,st_area_sh,-1,-1;st_length_ \"st_length_\" true true false 8 Double 0 0,First,#,uso_gse_SpatialJoin,st_length_,-1,-1;Region \"Region\" true true false 60 Text 0 0,First,#,uso_gse_SpatialJoin,Region,0,59;Comuna \"Comuna\" true true false 60 Text 0 0,First,#,uso_gse_SpatialJoin,Comuna,0,59;Provincia \"Provincia\" true true false 60 Text 0 0,First,#,uso_gse_SpatialJoin,Provincia,0,59;FID_1 \"FID_1\" true true false 4 Long 0 0,First,#,uso_gse_SpatialJoin,FID_1,-1,-1;POLY_ID \"POLY_ID\" true true false 4 Long 0 0,First,#,uso_gse_SpatialJoin,POLY_ID,-1,-1;CODINE011 \"CODINE011\" true true false 14 Text 0 0,First,#,uso_gse_SpatialJoin,CODINE011,0,13;OBJECTID_12 \"OBJECTID\" true true false 4 Long 0 0,First,#,uso_gse_SpatialJoin,OBJECTID_12,-1,-1;IDMZ \"IDMZ\" true true false 8 Double 0 0,First,#,uso_gse_SpatialJoin,IDMZ,-1,-1;puntaje_es \"puntaje_es\" true true false 8 Double 0 0,First,#,uso_gse_SpatialJoin,puntaje_es,-1,-1;EDUC \"EDUC\" true true false 8 Double 0 0,First,#,uso_gse_SpatialJoin,EDUC,-1,-1;puntaje_au \"puntaje_au\" true true false 2 Short 0 0,First,#,uso_gse_SpatialJoin,puntaje_au,-1,-1;Group_1 \"Group_1\" true true false 8 Double 0 0,First,#,uso_gse_SpatialJoin,Group_1,-1,-1;Hacin \"Hacin\" true true false 8 Double 0 0,First,#,uso_gse_SpatialJoin,Hacin,-1,-1;HacinClas \"HacinClas\" true true false 21 Text 0 0,First,#,uso_gse_SpatialJoin,HacinClas,0,20;Hacinpunt \"Hacinpunt\" true true false 2 Short 0 0,First,#,uso_gse_SpatialJoin,Hacinpunt,-1,-1;NSE \"NSE\" true true false 8 Double 0 0,First,#,uso_gse_SpatialJoin,NSE,-1,-1;CODINE \"CODINE\" true true false 14 Text 0 0,First,#,uso_gse_SpatialJoin,CODINE,0,13;ZONA \"ZONA\" true true false 1 Text 0 0,First,#,uso_gse_SpatialJoin,ZONA,0,254;Shape__Are \"Shape__Are\" true true false 8 Double 0 0,First,#,uso_gse_SpatialJoin,Shape__Are,-1,-1;Shape__Len \"Shape__Len\" true true false 8 Double 0 0,First,#,uso_gse_SpatialJoin,Shape__Len,-1,-1;GSE \"GSE\" true true false 2 Short 0 0,First,#,uso_gse_SpatialJoin,GSE,-1,-1;Q \"Q\" true true false 2 Short 0 0,First,#,uso_gse_SpatialJoin,Q,-1,-1;Shape_Length_1 \"Shape_Length\" true true false 8 Double 0 0,First,#,uso_gse_SpatialJoin,Shape_Length_1,-1,-1;Shape_Area_1 \"Shape_Area\" true true false 8 Double 0 0,First,#,uso_gse_SpatialJoin,Shape_Area_1,-1,-1;Hacinamiento \"Hacinamiento\" true true false 255 Text 0 0,First,#,uso_gse_SpatialJoin,Hacinamiento,0,254;Shape_Length \"Shape_Length\" false true true 8 Double 0 0,First,#,uso_gse_SpatialJoin,Shape_Length,-1,-1;Shape_Area \"Shape_Area\" false true true 8 Double 0 0,First,#,uso_gse_SpatialJoin,Shape_Area,-1,-1;Posibles \"Posibles\" true true false 2 Short 0 0,First,#,uso_gse_SpatialJoin,Posibles,-1,-1', fcOut) "
   ]
  },
  {
   "cell_type": "code",
   "execution_count": null,
   "metadata": {},
   "outputs": [],
   "source": [
    "arcpy.conversion.ExportFeatures(\n",
    "    in_features=r\"C:\\Users\\Kurta\\Documents\\ArcGIS\\Projects\\Laboratorio_DAG_1\\DAG_1S2024_L_TRABAJO_1_PARTE_2_KGC.gdb\\capas_operativas\\uso_gse_\",\n",
    "    out_features=r\"C:\\Users\\Kurta\\Documents\\ArcGIS\\Projects\\Laboratorio_DAG_1\\DAG_1S2024_L_TRABAJO_1_PARTE_2_KGC.gdb\\capa_salida\\salida3\",\n",
    "    where_clause=\"Posibles = '1'\",\n",
    "    use_field_alias_as_name=\"NOT_USE_ALIAS\",\n",
    "    field_mapping=r'Join_Count \"Join_Count\" true true false 4 Long 0 0,First,#,C:\\Users\\Kurta\\Documents\\ArcGIS\\Projects\\Laboratorio_DAG_1\\DAG_1S2024_L_TRABAJO_1_PARTE_2_KGC.gdb\\capas_operativas\\uso_gse_,Join_Count,-1,-1;TARGET_FID \"TARGET_FID\" true true false 4 Long 0 0,First,#,C:\\Users\\Kurta\\Documents\\ArcGIS\\Projects\\Laboratorio_DAG_1\\DAG_1S2024_L_TRABAJO_1_PARTE_2_KGC.gdb\\capas_operativas\\uso_gse_,TARGET_FID,-1,-1;GSE \"GSE\" true true false 2 Short 0 0,First,#,C:\\Users\\Kurta\\Documents\\ArcGIS\\Projects\\Laboratorio_DAG_1\\DAG_1S2024_L_TRABAJO_1_PARTE_2_KGC.gdb\\capas_operativas\\uso_gse_,GSE,-1,-1;Hacinamiento \"Hacinamiento\" true true false 255 Text 0 0,First,#,C:\\Users\\Kurta\\Documents\\ArcGIS\\Projects\\Laboratorio_DAG_1\\DAG_1S2024_L_TRABAJO_1_PARTE_2_KGC.gdb\\capas_operativas\\uso_gse_,Hacinamiento,0,254;Shape_Length \"Shape_Length\" false true true 8 Double 0 0,First,#,C:\\Users\\Kurta\\Documents\\ArcGIS\\Projects\\Laboratorio_DAG_1\\DAG_1S2024_L_TRABAJO_1_PARTE_2_KGC.gdb\\capas_operativas\\uso_gse_,Shape_Length,-1,-1;Shape_Area \"Shape_Area\" false true true 8 Double 0 0,First,#,C:\\Users\\Kurta\\Documents\\ArcGIS\\Projects\\Laboratorio_DAG_1\\DAG_1S2024_L_TRABAJO_1_PARTE_2_KGC.gdb\\capas_operativas\\uso_gse_,Shape_Area,-1,-1;Posibles \"Posibles\" true true false 512 Text 0 0,First,#,C:\\Users\\Kurta\\Documents\\ArcGIS\\Projects\\Laboratorio_DAG_1\\DAG_1S2024_L_TRABAJO_1_PARTE_2_KGC.gdb\\capas_operativas\\uso_gse_,Posibles,0,511',\n",
    "    sort_field=None\n",
    ")"
   ]
  }
 ],
 "metadata": {
  "kernelspec": {
   "display_name": "ArcGISPro",
   "language": "Python",
   "name": "python3"
  },
  "language_info": {
   "file_extension": ".py",
   "name": "python",
   "version": "3"
  }
 },
 "nbformat": 4,
 "nbformat_minor": 2
}
